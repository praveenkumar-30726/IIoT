{
  "nbformat": 4,
  "nbformat_minor": 0,
  "metadata": {
    "colab": {
      "provenance": [],
      "authorship_tag": "ABX9TyO1eu8X5faLK77wPLDqtcKs",
      "include_colab_link": true
    },
    "kernelspec": {
      "name": "python3",
      "display_name": "Python 3"
    },
    "language_info": {
      "name": "python"
    }
  },
  "cells": [
    {
      "cell_type": "markdown",
      "metadata": {
        "id": "view-in-github",
        "colab_type": "text"
      },
      "source": [
        "<a href=\"https://colab.research.google.com/github/praveenkumar-30726/IIoT/blob/main/IIoT.ipynb\" target=\"_parent\"><img src=\"https://colab.research.google.com/assets/colab-badge.svg\" alt=\"Open In Colab\"/></a>"
      ]
    },
    {
      "cell_type": "code",
      "execution_count": null,
      "metadata": {
        "id": "S8dwts-XxyV2"
      },
      "outputs": [],
      "source": [
        "using UnityEngine;\n",
        "using UnityEngine.Networking;\n",
        "using TMPro;\n",
        "\n",
        "public class ThingSpeakReader : MonoBehaviour\n",
        "{\n",
        "    public TextMeshProUGUI soilText;\n",
        "    public TextMeshProUGUI tempText;\n",
        "    public TextMeshProUGUI pumpText;\n",
        "\n",
        "    private string url = \"https://api.thingspeak.com/channels/3119662/feeds/last.json\";\n",
        "\n",
        "    void Start()\n",
        "    {\n",
        "        InvokeRepeating(\"FetchData\", 1f, 20f); // Fetch every 20 seconds\n",
        "    }\n",
        "\n",
        "    void FetchData()\n",
        "    {\n",
        "        StartCoroutine(GetData());\n",
        "    }\n",
        "\n",
        "    IEnumerator GetData()\n",
        "    {\n",
        "        UnityWebRequest www = UnityWebRequest.Get(url);\n",
        "        yield return www.SendWebRequest();\n",
        "\n",
        "        if (www.result == UnityWebRequest.Result.Success)\n",
        "        {\n",
        "            string json = www.downloadHandler.text;\n",
        "            ThingSpeakData data = JsonUtility.FromJson<ThingSpeakData>(json);\n",
        "\n",
        "            soilText.text = $\"Soil Moisture: {data.field1}%\";\n",
        "            tempText.text = $\"Temperature: {data.field2}°C\";\n",
        "            pumpText.text = data.field3 == \"1\" ? \"Pump Status: ON\" : \"Pump Status: OFF\";\n",
        "\n",
        "            Debug.Log(\"✅ Data updated from ThingSpeak.\");\n",
        "        }\n",
        "        else\n",
        "        {\n",
        "            Debug.LogError(\"Failed to fetch data: \" + www.error);\n",
        "        }\n",
        "    }\n",
        "}\n",
        "\n",
        "[System.Serializable]\n",
        "public class ThingSpeakData\n",
        "{\n",
        "    public string created_at;\n",
        "    public string entry_id;\n",
        "    public string field1; // Soil moisture\n",
        "    public string field2; // Temperature\n",
        "    public string field3; // Pump status\n",
        "}"
      ]
    }
  ]
}